{
 "cells": [
  {
   "attachments": {},
   "cell_type": "markdown",
   "metadata": {
    "id": "LSIM-PITWYFa"
   },
   "source": [
    "<a href=\"https://colab.research.google.com/github/jeffheaton/t81_558_deep_learning/blob/master/t81_558_class_14_01_automl.ipynb\" target=\"_parent\"><img src=\"https://colab.research.google.com/assets/colab-badge.svg\" alt=\"Open In Colab\"/></a>\n"
   ]
  },
  {
   "attachments": {},
   "cell_type": "markdown",
   "metadata": {
    "id": "YDTXd8-Lmp8Q"
   },
   "source": [
    "# T81-558: Applications of Deep Neural Networks\n",
    "\n",
    "**Module 14: Other Neural Network Techniques**\n",
    "\n",
    "- Instructor: [Jeff Heaton](https://sites.wustl.edu/jeffheaton/), McKelvey School of Engineering, [Washington University in St. Louis](https://engineering.wustl.edu/Programs/Pages/default.aspx)\n",
    "- For more information visit the [class website](https://sites.wustl.edu/jeffheaton/t81-558/).\n"
   ]
  },
  {
   "attachments": {},
   "cell_type": "markdown",
   "metadata": {
    "id": "ncNrAEpzmp8S"
   },
   "source": [
    "# Module 14 Video Material\n",
    "\n",
    "- **Part 14.1: What is AutoML** [[Video]](https://www.youtube.com/watch?v=1mB_5iurqzw&list=PLjy4p-07OYzulelvJ5KVaT2pDlxivl_BN) [[Notebook]](https://github.com/jeffheaton/t81_558_deep_learning/blob/master/t81_558_class_14_01_automl.ipynb)\n",
    "- Part 14.2: Using Denoising AutoEncoders in Keras [[Video]](https://www.youtube.com/watch?v=4bTSu6_fucc&list=PLjy4p-07OYzulelvJ5KVaT2pDlxivl_BN) [[Notebook]](https://github.com/jeffheaton/t81_558_deep_learning/blob/master/t81_558_class_14_02_auto_encode.ipynb)\n",
    "- Part 14.3: Training an Intrusion Detection System with KDD99 [[Video]](https://www.youtube.com/watch?v=1ySn6h2A68I&list=PLjy4p-07OYzulelvJ5KVaT2pDlxivl_BN) [[Notebook]](https://github.com/jeffheaton/t81_558_deep_learning/blob/master/t81_558_class_14_03_anomaly.ipynb)\n",
    "- Part 14.4: Anomaly Detection in Keras [[Video]](https://www.youtube.com/watch?v=VgyKQ5MTDFc&list=PLjy4p-07OYzulelvJ5KVaT2pDlxivl_BN) [[Notebook]](https://github.com/jeffheaton/t81_558_deep_learning/blob/master/t81_558_class_14_04_ids_kdd99.ipynb)\n",
    "- Part 14.5: The Deep Learning Technologies I am Excited About [[Video]]() [[Notebook]](https://github.com/jeffheaton/t81_558_deep_learning/blob/master/t81_558_class_14_05_new_tech.ipynb)\n"
   ]
  },
  {
   "attachments": {},
   "cell_type": "markdown",
   "metadata": {
    "id": "lux_6KOXMU94"
   },
   "source": [
    "# Google CoLab Instructions\n",
    "\n",
    "The following code ensures that Google CoLab is running the correct version of TensorFlow.\n"
   ]
  },
  {
   "cell_type": "code",
   "execution_count": null,
   "metadata": {
    "colab": {
     "base_uri": "https://localhost:8080/"
    },
    "id": "fU9UhAxTmp8S",
    "outputId": "8b05ccdb-10f3-460b-c356-f299191aae47"
   },
   "outputs": [],
   "source": [
    "# Detect Colab if present\n",
    "try:\n",
    "    from google.colab import drive\n",
    "    COLAB = True\n",
    "    print(\"Note: using Google CoLab\")\n",
    "    %tensorflow_version 2.x\n",
    "except:\n",
    "    print(\"Note: not using Google CoLab\")\n",
    "    COLAB = False"
   ]
  },
  {
   "attachments": {},
   "cell_type": "markdown",
   "metadata": {
    "id": "Q09yMGGcmp9N"
   },
   "source": [
    "# Part 14.1: What is AutoML\n",
    "\n",
    "Automatic Machine Learning (AutoML) attempts to use machine learning to automate itself. Data is passed to the AutoML application in raw form, and models are automatically generated.\n",
    "\n",
    "## AutoML from your Local Computer\n",
    "\n",
    "The following AutoML applications are free:\n",
    "\n",
    "- [AutoKeras](https://autokeras.com/)\n",
    "- [Auto-SKLearn](https://automl.github.io/auto-sklearn/master/)\n",
    "- [Auto PyTorch](https://github.com/automl/Auto-PyTorch)\n",
    "- [TPOT](http://epistasislab.github.io/tpot/)\n",
    "\n",
    "The following AutoML applications are commercial:\n",
    "\n",
    "- [Rapid Miner](https://rapidminer.com/educational-program/) - Free student version available.\n",
    "- [Dataiku](https://www.dataiku.com/dss/editions/) - Free community version available.\n",
    "- [DataRobot](https://www.datarobot.com/) - Commercial\n",
    "- [H2O Driverless](https://www.h2o.ai/products/h2o-driverless-ai/) - Commercial\n",
    "\n",
    "### AutoML from Google Cloud\n",
    "\n",
    "There are also cloud-hosted AutoML platforms:\n",
    "\n",
    "- [Google Cloud AutoML Tutorial](https://cloud.google.com/vision/automl/docs/tutorial)\n",
    "- [Azure AutoML](https://docs.microsoft.com/en-us/azure/machine-learning/how-to-use-automated-ml-for-ml-models)\n",
    "\n",
    "This module will show how to use [AutoKeras](https://autokeras.com/). First, we download the paperclips counting dataset that you saw previously in this book.\n"
   ]
  },
  {
   "cell_type": "code",
   "execution_count": null,
   "metadata": {
    "colab": {
     "base_uri": "https://localhost:8080/"
    },
    "id": "c8ixjIi5p8Uy",
    "outputId": "c4997f98-7a51-4aa7-b25b-82af2cc34c10"
   },
   "outputs": [],
   "source": [
    "# HIDE OUTPUT\n",
    "import os\n",
    "import pandas as pd\n",
    "\n",
    "URL = \"https://github.com/jeffheaton/data-mirror/\"\n",
    "DOWNLOAD_SOURCE = URL+\"releases/download/v1/paperclips.zip\"\n",
    "DOWNLOAD_NAME = DOWNLOAD_SOURCE[DOWNLOAD_SOURCE.rfind('/')+1:]\n",
    "\n",
    "if COLAB:\n",
    "  PATH = \"/content\"\n",
    "else:\n",
    "  # I used this locally on my machine, you may need different\n",
    "  PATH = \"/Users/jeff/temp\"\n",
    "\n",
    "EXTRACT_TARGET = os.path.join(PATH,\"clips\")\n",
    "SOURCE = os.path.join(EXTRACT_TARGET, \"paperclips\")\n",
    "\n",
    "# Download paperclip data\n",
    "!wget -O {os.path.join(PATH,DOWNLOAD_NAME)} {DOWNLOAD_SOURCE}\n",
    "!mkdir -p {SOURCE}\n",
    "!mkdir -p {TARGET}\n",
    "!mkdir -p {EXTRACT_TARGET}\n",
    "!unzip -o -j -d {SOURCE} {os.path.join(PATH, DOWNLOAD_NAME)} >/dev/null\n",
    "\n",
    "# Process training data \n",
    "df_train = pd.read_csv(os.path.join(SOURCE, \"train.csv\"))\n",
    "df_train['filename'] = \"clips-\" + df_train.id.astype(str) + \".jpg\"\n",
    "\n",
    "# Use only the first 1000 images\n",
    "df_train = df_train[0:1000]"
   ]
  },
  {
   "attachments": {},
   "cell_type": "markdown",
   "metadata": {
    "id": "xjU8vkP2ohHM"
   },
   "source": [
    "One limitation of AutoKeras is that it cannot directly utilize generators. Without resorting to complex techniques, all training data must reside in RAM. We will use the following code to load the image data to RAM.\n"
   ]
  },
  {
   "cell_type": "code",
   "execution_count": null,
   "metadata": {
    "colab": {
     "base_uri": "https://localhost:8080/"
    },
    "id": "GYiMObEJsoof",
    "outputId": "779f7e38-4796-44cc-ebf8-6751f0fb75d5"
   },
   "outputs": [],
   "source": [
    "# HIDE OUTPUT\n",
    "import tensorflow as tf\n",
    "import keras_preprocessing\n",
    "import glob, os\n",
    "import tqdm\n",
    "import numpy as np\n",
    "from PIL import Image\n",
    "\n",
    "IMG_SHAPE = (128, 128)\n",
    "\n",
    "\n",
    "def load_images(files, img_shape):\n",
    "    cnt = len(files)\n",
    "    x = np.zeros((cnt,) + img_shape + (3,))\n",
    "    i = 0\n",
    "    for file in tqdm.tqdm(files):\n",
    "        img = Image.open(file)\n",
    "        img = img.resize(img_shape)\n",
    "        img = np.array(img)\n",
    "        img = img / 255\n",
    "        x[i, :, :, :] = img\n",
    "        i += 1\n",
    "    return x\n",
    "\n",
    "\n",
    "images = [os.path.join(SOURCE, x) for x in df_train.filename]\n",
    "x = load_images(images, IMG_SHAPE)\n",
    "y = df_train.clip_count.values"
   ]
  },
  {
   "attachments": {},
   "cell_type": "markdown",
   "metadata": {
    "id": "mKWkNJOzjD09"
   },
   "source": [
    "## Using AutoKeras\n",
    "\n",
    "[AutoKeras](https://autokeras.com/) is an AutoML system based on Keras. The goal of AutoKeras is to make machine learning accessible to everyone. [DATA Lab](http://people.tamu.edu/~guangzhou92/Data_Lab/) develops it at [Texas A&M University](https://www.tamu.edu/). We will see how to provide the paperclips dataset to AutoKeras and create an automatically tuned Keras deep learning model from this dataset. This automatic process frees you from choosing layer types and neuron counts.\n",
    "\n",
    "We begin by installing AutoKeras.\n"
   ]
  },
  {
   "cell_type": "code",
   "execution_count": null,
   "metadata": {
    "colab": {
     "base_uri": "https://localhost:8080/"
    },
    "id": "4jI_4yo8Rmj1",
    "outputId": "748ec093-a166-4cb2-9b2a-f89711586e79"
   },
   "outputs": [],
   "source": [
    "# HIDE OUTPUT\n",
    "!pip install autokeras"
   ]
  },
  {
   "attachments": {},
   "cell_type": "markdown",
   "metadata": {
    "id": "t9MOm41vpka9"
   },
   "source": [
    "AutoKeras contains several [examples](https://autokeras.com/tutorial/overview/) demonstrating image, tabular, and time-series data. We will make use of the **ImageRegressor**. Refer to the AutoKeras documentation for other classifiers and regressors to fit specific uses.\n",
    "\n",
    "We define several variables to determine the AutoKeras operation:\n",
    "\n",
    "- **MAX_TRIALS** - Determines how many different models to see.\n",
    "- **SEED** - You can try different random seeds to obtain different results.\n",
    "- **VAL_SPLIT** - What percent of the dataset should we use for validation.\n",
    "- **EPOCHS** - How many epochs to try each model for training.\n",
    "- **BATCH_SIZE** - Training batch size.\n",
    "\n",
    "Setting MAX_TRIALS and EPOCHS will have a great impact on your total runtime. You must balance how many models to try (MAX_TRIALS) and how deeply to try to train each (EPOCHS). AutoKeras utilize early stopping, so setting EPOCHS too high will mean early stopping will prevent you from reaching the EPOCHS number of epochs.\n",
    "\n",
    "One strategy is to do a broad, shallow search. Set TRIALS high and EPOCHS low. The resulting model likely has the best hyperparameters. Finally, train this resulting model fully.\n"
   ]
  },
  {
   "cell_type": "code",
   "execution_count": null,
   "metadata": {
    "colab": {
     "base_uri": "https://localhost:8080/"
    },
    "id": "xZ_Qqr2qJvam",
    "outputId": "f6a5266a-c56a-4c92-c903-347807ebbacb"
   },
   "outputs": [],
   "source": [
    "import numpy as np\n",
    "import autokeras as ak\n",
    "\n",
    "MAX_TRIALS = 2\n",
    "SEED = 42\n",
    "VAL_SPLIT = 0.1\n",
    "EPOCHS = 1000\n",
    "BATCH_SIZE = 32\n",
    "\n",
    "auto_reg = ak.ImageRegressor(overwrite=True, max_trials=MAX_TRIALS, seed=42)\n",
    "auto_reg.fit(x, y, validation_split=VAL_SPLIT, batch_size=BATCH_SIZE, epochs=EPOCHS)\n",
    "print(auto_reg.evaluate(x, y))"
   ]
  },
  {
   "attachments": {},
   "cell_type": "markdown",
   "metadata": {
    "id": "My1KzK2ApqCz"
   },
   "source": [
    "We can now display the best model.\n"
   ]
  },
  {
   "cell_type": "code",
   "execution_count": null,
   "metadata": {
    "colab": {
     "base_uri": "https://localhost:8080/"
    },
    "id": "LJGhmWHNLhZN",
    "outputId": "e71fa5b6-ffa3-4c1a-ac4e-77de9b217dea"
   },
   "outputs": [],
   "source": [
    "print(type(auto_reg))\n",
    "model = auto_reg.export_model()\n",
    "model.summary()"
   ]
  },
  {
   "attachments": {},
   "cell_type": "markdown",
   "metadata": {
    "id": "ZxmVTxKWpvL9"
   },
   "source": [
    "This top model can be saved and either utilized or trained further.\n"
   ]
  },
  {
   "cell_type": "code",
   "execution_count": null,
   "metadata": {
    "colab": {
     "base_uri": "https://localhost:8080/"
    },
    "id": "NtYaXjNAQ3dT",
    "outputId": "4e6cc42e-4212-491a-9b06-b927a5866e1a"
   },
   "outputs": [],
   "source": [
    "from keras.models import load_model\n",
    "\n",
    "print(type(model))\n",
    "\n",
    "try:\n",
    "    model.save(\"model_autokeras\", save_format=\"tf\")\n",
    "except Exception:\n",
    "    model.save(\"model_autokeras.h5\")\n",
    "\n",
    "\n",
    "loaded_model = load_model(\"model_autokeras\", custom_objects=ak.CUSTOM_OBJECTS)\n",
    "print(loaded_model.evaluate(x, y))"
   ]
  }
 ],
 "metadata": {
  "accelerator": "GPU",
  "anaconda-cloud": {},
  "colab": {
   "background_execution": "on",
   "collapsed_sections": [],
   "name": "Final of base-auto.ipynb",
   "provenance": []
  },
  "kernelspec": {
   "display_name": "tensorflow",
   "language": "python",
   "name": "python3"
  },
  "language_info": {
   "codemirror_mode": {
    "name": "ipython",
    "version": 3
   },
   "file_extension": ".py",
   "mimetype": "text/x-python",
   "name": "python",
   "nbconvert_exporter": "python",
   "pygments_lexer": "ipython3",
   "version": "3.10.10"
  },
  "varInspector": {
   "cols": {
    "lenName": 16,
    "lenType": 16,
    "lenVar": 40
   },
   "kernels_config": {
    "python": {
     "delete_cmd_postfix": "",
     "delete_cmd_prefix": "del ",
     "library": "var_list.py",
     "varRefreshCmd": "print(var_dic_list())"
    },
    "r": {
     "delete_cmd_postfix": ") ",
     "delete_cmd_prefix": "rm(",
     "library": "var_list.r",
     "varRefreshCmd": "cat(var_dic_list()) "
    }
   },
   "types_to_exclude": [
    "module",
    "function",
    "builtin_function_or_method",
    "instance",
    "_Feature"
   ],
   "window_display": false
  }
 },
 "nbformat": 4,
 "nbformat_minor": 1
}
