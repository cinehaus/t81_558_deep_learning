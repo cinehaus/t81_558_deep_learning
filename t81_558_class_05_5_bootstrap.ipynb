{
  "cells": [
    {
      "attachments": {},
      "cell_type": "markdown",
      "metadata": {
        "id": "m0HWxcHskn4O"
      },
      "source": [
        "<a href=\"https://colab.research.google.com/github/jeffheaton/t81_558_deep_learning/blob/master/t81_558_class_05_5_bootstrap.ipynb\" target=\"_parent\"><img src=\"https://colab.research.google.com/assets/colab-badge.svg\" alt=\"Open In Colab\"/></a>\n"
      ]
    },
    {
      "attachments": {},
      "cell_type": "markdown",
      "metadata": {
        "id": "GwoHV43Ukn4Q"
      },
      "source": [
        "# T81-558: Applications of Deep Neural Networks\n",
        "\n",
        "**Module 5: Regularization and Dropout**\n",
        "\n",
        "- Instructor: [Jeff Heaton](https://sites.wustl.edu/jeffheaton/), McKelvey School of Engineering, [Washington University in St. Louis](https://engineering.wustl.edu/Programs/Pages/default.aspx)\n",
        "- For more information visit the [class website](https://sites.wustl.edu/jeffheaton/t81-558/).\n"
      ]
    },
    {
      "attachments": {},
      "cell_type": "markdown",
      "metadata": {
        "id": "pNcea-drkn4Q"
      },
      "source": [
        "# Module 5 Material\n",
        "\n",
        "- Part 5.1: Part 5.1: Introduction to Regularization: Ridge and Lasso [[Video]](https://www.youtube.com/watch?v=jfgRtCYjoBs&list=PLjy4p-07OYzulelvJ5KVaT2pDlxivl_BN) [[Notebook]](https://github.com/jeffheaton/t81_558_deep_learning/blob/master/t81_558_class_05_1_reg_ridge_lasso.ipynb)\n",
        "- Part 5.2: Using K-Fold Cross Validation with Keras [[Video]](https://www.youtube.com/watch?v=maiQf8ray_s&list=PLjy4p-07OYzulelvJ5KVaT2pDlxivl_BN) [[Notebook]](https://github.com/jeffheaton/t81_558_deep_learning/blob/master/t81_558_class_05_2_kfold.ipynb)\n",
        "- Part 5.3: Using L1 and L2 Regularization with Keras to Decrease Overfitting [[Video]](https://www.youtube.com/watch?v=JEWzWv1fBFQ&list=PLjy4p-07OYzulelvJ5KVaT2pDlxivl_BN) [[Notebook]](https://github.com/jeffheaton/t81_558_deep_learning/blob/master/t81_558_class_05_3_keras_l1_l2.ipynb)\n",
        "- Part 5.4: Drop Out for Keras to Decrease Overfitting [[Video]](https://www.youtube.com/watch?v=bRyOi0L6Rs8&list=PLjy4p-07OYzulelvJ5KVaT2pDlxivl_BN) [[Notebook]](https://github.com/jeffheaton/t81_558_deep_learning/blob/master/t81_558_class_05_4_dropout.ipynb)\n",
        "- **Part 5.5: Benchmarking Keras Deep Learning Regularization Techniques** [[Video]](https://www.youtube.com/watch?v=1NLBwPumUAs&list=PLjy4p-07OYzulelvJ5KVaT2pDlxivl_BN) [[Notebook]](https://github.com/jeffheaton/t81_558_deep_learning/blob/master/t81_558_class_05_5_bootstrap.ipynb)\n"
      ]
    },
    {
      "attachments": {},
      "cell_type": "markdown",
      "metadata": {
        "id": "fqyUhlDhkn4Q"
      },
      "source": [
        "# Google CoLab Instructions\n",
        "\n",
        "The following code ensures that Google CoLab is running the correct version of TensorFlow.\n"
      ]
    },
    {
      "cell_type": "code",
      "execution_count": null,
      "metadata": {
        "colab": {
          "base_uri": "https://localhost:8080/"
        },
        "id": "YsN_BrNTkn4R",
        "outputId": "720ef567-d8c5-4208-f704-545fc247294c"
      },
      "outputs": [],
      "source": [
        "try:\n",
        "    %tensorflow_version 2.x\n",
        "    COLAB = True\n",
        "    print(\"Note: using Google CoLab\")\n",
        "except:\n",
        "    print(\"Note: not using Google CoLab\")\n",
        "    COLAB = False"
      ]
    },
    {
      "attachments": {},
      "cell_type": "markdown",
      "metadata": {
        "id": "rcplr2pVkn4S"
      },
      "source": [
        "# Part 5.5: Benchmarking Regularization Techniques\n",
        "\n",
        "Quite a few hyperparameters have been introduced so far. Tweaking each of these values can have an effect on the score obtained by your neural networks. Some of the hyperparameters seen so far include:\n",
        "\n",
        "- Number of layers in the neural network\n",
        "- How many neurons in each layer\n",
        "- What activation functions to use on each layer\n",
        "- Dropout percent on each layer\n",
        "- L1 and L2 values on each layer\n",
        "\n",
        "To try out each of these hyperparameters you will need to run train neural networks with multiple settings for each hyperparameter. However, you may have noticed that neural networks often produce somewhat different results when trained multiple times. This is because the neural networks start with random weights. Because of this it is necessary to fit and evaluate a neural network times to ensure that one set of hyperparameters are actually better than another. Bootstrapping can be an effective means of benchmarking (comparing) two sets of hyperparameters.\n",
        "\n",
        "Bootstrapping is similar to cross-validation. Both go through a number of cycles/folds providing validation and training sets. However, bootstrapping can have an unlimited number of cycles. Bootstrapping chooses a new train and validation split each cycle, with replacement. The fact that each cycle is chosen with replacement means that, unlike cross validation, there will often be repeated rows selected between cycles. If you run the bootstrap for enough cycles, there will be duplicate cycles.\n",
        "\n",
        "In this part we will use bootstrapping for hyperparameter benchmarking. We will train a neural network for a specified number of splits (denoted by the SPLITS constant). For these examples we use 100. We will compare the average score at the end of the 100. By the end of the cycles the mean score will have converged somewhat. This ending score will be a much better basis of comparison than a single cross-validation. Additionally, the average number of epochs will be tracked to give an idea of a possible optimal value. Because the early stopping validation set is also used to evaluate the the neural network as well, it might be slightly inflated. This is because we are both stopping and evaluating on the same sample. However, we are using the scores only as relative measures to determine the superiority of one set of hyperparameters to another, so this slight inflation should not present too much of a problem.\n",
        "\n",
        "Because we are benchmarking, we will display the amount of time taken for each cycle. The following function can be used to nicely format a time span.\n"
      ]
    },
    {
      "cell_type": "code",
      "execution_count": null,
      "metadata": {
        "id": "k_xChO0Fkn4S"
      },
      "outputs": [],
      "source": [
        "# Nicely formatted time string\n",
        "def hms_string(sec_elapsed):\n",
        "    h = int(sec_elapsed / (60 * 60))\n",
        "    m = int((sec_elapsed % (60 * 60)) / 60)\n",
        "    s = sec_elapsed % 60\n",
        "    return \"{}:{:>02}:{:>05.2f}\".format(h, m, s)"
      ]
    },
    {
      "attachments": {},
      "cell_type": "markdown",
      "metadata": {
        "id": "IOBKcIUzkn4T"
      },
      "source": [
        "## Bootstrapping for Regression\n",
        "\n",
        "Regression bootstrapping uses the **ShuffleSplit** object to perform the splits. This technique is similar to **KFold** for cross-validation; no balancing occurs. We will attempt to predict the age column for the **jh-simple-dataset**; the following code loads this data.\n"
      ]
    },
    {
      "cell_type": "code",
      "execution_count": null,
      "metadata": {
        "id": "yWKzWCRskn4T"
      },
      "outputs": [],
      "source": [
        "import pandas as pd\n",
        "from scipy.stats import zscore\n",
        "from sklearn.model_selection import train_test_split\n",
        "\n",
        "# Read the data set\n",
        "df = pd.read_csv(\n",
        "    \"https://data.heatonresearch.com/data/t81-558/jh-simple-dataset.csv\",\n",
        "    na_values=[\"NA\", \"?\"],\n",
        ")\n",
        "\n",
        "# Generate dummies for job\n",
        "df = pd.concat([df, pd.get_dummies(df[\"job\"], prefix=\"job\")], axis=1)\n",
        "df.drop(\"job\", axis=1, inplace=True)\n",
        "\n",
        "# Generate dummies for area\n",
        "df = pd.concat([df, pd.get_dummies(df[\"area\"], prefix=\"area\")], axis=1)\n",
        "df.drop(\"area\", axis=1, inplace=True)\n",
        "\n",
        "# Generate dummies for product\n",
        "df = pd.concat([df, pd.get_dummies(df[\"product\"], prefix=\"product\")], axis=1)\n",
        "df.drop(\"product\", axis=1, inplace=True)\n",
        "\n",
        "# Missing values for income\n",
        "med = df[\"income\"].median()\n",
        "df[\"income\"] = df[\"income\"].fillna(med)\n",
        "\n",
        "# Standardize ranges\n",
        "df[\"income\"] = zscore(df[\"income\"])\n",
        "df[\"aspect\"] = zscore(df[\"aspect\"])\n",
        "df[\"save_rate\"] = zscore(df[\"save_rate\"])\n",
        "df[\"subscriptions\"] = zscore(df[\"subscriptions\"])\n",
        "\n",
        "# Convert to numpy - Classification\n",
        "x_columns = df.columns.drop(\"age\").drop(\"id\")\n",
        "x = df[x_columns].values\n",
        "y = df[\"age\"].values"
      ]
    },
    {
      "attachments": {},
      "cell_type": "markdown",
      "metadata": {
        "id": "2mHk4XHLkn4T"
      },
      "source": [
        "The following code performs the bootstrap. The architecture of the neural network can be adjusted to compare many different configurations.\n"
      ]
    },
    {
      "cell_type": "code",
      "execution_count": null,
      "metadata": {
        "colab": {
          "base_uri": "https://localhost:8080/"
        },
        "id": "WbhxDX1rkn4U",
        "outputId": "45488bc1-c828-42ec-ebb5-f5b569fa96d0"
      },
      "outputs": [],
      "source": [
        "import pandas as pd\n",
        "import os\n",
        "import numpy as np\n",
        "import time\n",
        "import statistics\n",
        "from sklearn import metrics\n",
        "from sklearn.model_selection import StratifiedKFold\n",
        "from tensorflow.keras.models import Sequential\n",
        "from tensorflow.keras.layers import Dense, Activation\n",
        "from tensorflow.keras import regularizers\n",
        "from tensorflow.keras.callbacks import EarlyStopping\n",
        "from sklearn.model_selection import ShuffleSplit\n",
        "\n",
        "SPLITS = 50\n",
        "\n",
        "# Bootstrap\n",
        "boot = ShuffleSplit(n_splits=SPLITS, test_size=0.1, random_state=42)\n",
        "\n",
        "# Track progress\n",
        "mean_benchmark = []\n",
        "epochs_needed = []\n",
        "num = 0\n",
        "\n",
        "# Loop through samples\n",
        "for train, test in boot.split(x):\n",
        "    start_time = time.time()\n",
        "    num += 1\n",
        "\n",
        "    # Split train and test\n",
        "    x_train = x[train]\n",
        "    y_train = y[train]\n",
        "    x_test = x[test]\n",
        "    y_test = y[test]\n",
        "\n",
        "    # Construct neural network\n",
        "    model = Sequential()\n",
        "    model.add(Dense(20, input_dim=x_train.shape[1], activation=\"relu\"))\n",
        "    model.add(Dense(10, activation=\"relu\"))\n",
        "    model.add(Dense(1))\n",
        "    model.compile(loss=\"mean_squared_error\", optimizer=\"adam\")\n",
        "\n",
        "    monitor = EarlyStopping(\n",
        "        monitor=\"val_loss\",\n",
        "        min_delta=1e-3,\n",
        "        patience=5,\n",
        "        verbose=0,\n",
        "        mode=\"auto\",\n",
        "        restore_best_weights=True,\n",
        "    )\n",
        "\n",
        "    # Train on the bootstrap sample\n",
        "    model.fit(\n",
        "        x_train,\n",
        "        y_train,\n",
        "        validation_data=(x_test, y_test),\n",
        "        callbacks=[monitor],\n",
        "        verbose=0,\n",
        "        epochs=1000,\n",
        "    )\n",
        "    epochs = monitor.stopped_epoch\n",
        "    epochs_needed.append(epochs)\n",
        "\n",
        "    # Predict on the out of boot (validation)\n",
        "    pred = model.predict(x_test)\n",
        "\n",
        "    # Measure this bootstrap's log loss\n",
        "    score = np.sqrt(metrics.mean_squared_error(pred, y_test))\n",
        "    mean_benchmark.append(score)\n",
        "    m1 = statistics.mean(mean_benchmark)\n",
        "    m2 = statistics.mean(epochs_needed)\n",
        "    mdev = statistics.pstdev(mean_benchmark)\n",
        "\n",
        "    # Record this iteration\n",
        "    time_took = time.time() - start_time\n",
        "    print(\n",
        "        f\"#{num}: score={score:.6f}, mean score={m1:.6f},\" f\" stdev={mdev:.6f}\",\n",
        "        f\" epochs={epochs}, mean epochs={int(m2)}\",\n",
        "        f\" time={hms_string(time_took)}\",\n",
        "    )"
      ]
    },
    {
      "attachments": {},
      "cell_type": "markdown",
      "metadata": {
        "id": "QIFZhOuykn4U"
      },
      "source": [
        "The bootstrapping process for classification is similar, and I present it in the next section.\n",
        "\n",
        "## Bootstrapping for Classification\n",
        "\n",
        "Regression bootstrapping uses the **StratifiedShuffleSplit** class to perform the splits. This class is similar to **StratifiedKFold** for cross-validation, as the classes are balanced so that the sampling does not affect proportions. To demonstrate this technique, we will attempt to predict the product column for the **jh-simple-dataset**; the following code loads this data.\n"
      ]
    },
    {
      "cell_type": "code",
      "execution_count": null,
      "metadata": {
        "id": "jK8HwVfDkn4U"
      },
      "outputs": [],
      "source": [
        "import pandas as pd\n",
        "from scipy.stats import zscore\n",
        "\n",
        "# Read the data set\n",
        "df = pd.read_csv(\n",
        "    \"https://data.heatonresearch.com/data/t81-558/jh-simple-dataset.csv\",\n",
        "    na_values=[\"NA\", \"?\"],\n",
        ")\n",
        "\n",
        "# Generate dummies for job\n",
        "df = pd.concat([df, pd.get_dummies(df[\"job\"], prefix=\"job\")], axis=1)\n",
        "df.drop(\"job\", axis=1, inplace=True)\n",
        "\n",
        "# Generate dummies for area\n",
        "df = pd.concat([df, pd.get_dummies(df[\"area\"], prefix=\"area\")], axis=1)\n",
        "df.drop(\"area\", axis=1, inplace=True)\n",
        "\n",
        "# Missing values for income\n",
        "med = df[\"income\"].median()\n",
        "df[\"income\"] = df[\"income\"].fillna(med)\n",
        "\n",
        "# Standardize ranges\n",
        "df[\"income\"] = zscore(df[\"income\"])\n",
        "df[\"aspect\"] = zscore(df[\"aspect\"])\n",
        "df[\"save_rate\"] = zscore(df[\"save_rate\"])\n",
        "df[\"age\"] = zscore(df[\"age\"])\n",
        "df[\"subscriptions\"] = zscore(df[\"subscriptions\"])\n",
        "\n",
        "# Convert to numpy - Classification\n",
        "x_columns = df.columns.drop(\"product\").drop(\"id\")\n",
        "x = df[x_columns].values\n",
        "dummies = pd.get_dummies(df[\"product\"])  # Classification\n",
        "products = dummies.columns\n",
        "y = dummies.values"
      ]
    },
    {
      "attachments": {},
      "cell_type": "markdown",
      "metadata": {
        "id": "DQSViKNJkn4U"
      },
      "source": [
        "We now run this data through a number of splits specified by the SPLITS variable. We track the average error through each of these splits.\n"
      ]
    },
    {
      "cell_type": "code",
      "execution_count": null,
      "metadata": {
        "colab": {
          "base_uri": "https://localhost:8080/"
        },
        "id": "zzu6bqDukn4U",
        "outputId": "583d468c-5d89-45e1-9353-3cfcfc795ae7"
      },
      "outputs": [],
      "source": [
        "import pandas as pd\n",
        "import os\n",
        "import numpy as np\n",
        "import time\n",
        "import statistics\n",
        "from sklearn import metrics\n",
        "from sklearn.model_selection import StratifiedKFold\n",
        "from tensorflow.keras.models import Sequential\n",
        "from tensorflow.keras.layers import Dense, Activation\n",
        "from tensorflow.keras import regularizers\n",
        "from tensorflow.keras.callbacks import EarlyStopping\n",
        "from sklearn.model_selection import StratifiedShuffleSplit\n",
        "\n",
        "SPLITS = 50\n",
        "\n",
        "# Bootstrap\n",
        "boot = StratifiedShuffleSplit(n_splits=SPLITS, test_size=0.1, random_state=42)\n",
        "\n",
        "# Track progress\n",
        "mean_benchmark = []\n",
        "epochs_needed = []\n",
        "num = 0\n",
        "\n",
        "# Loop through samples\n",
        "for train, test in boot.split(x, df[\"product\"]):\n",
        "    start_time = time.time()\n",
        "    num += 1\n",
        "\n",
        "    # Split train and test\n",
        "    x_train = x[train]\n",
        "    y_train = y[train]\n",
        "    x_test = x[test]\n",
        "    y_test = y[test]\n",
        "\n",
        "    # Construct neural network\n",
        "    model = Sequential()\n",
        "    model.add(Dense(50, input_dim=x.shape[1], activation=\"relu\"))  # Hidden 1\n",
        "    model.add(Dense(25, activation=\"relu\"))  # Hidden 2\n",
        "    model.add(Dense(y.shape[1], activation=\"softmax\"))  # Output\n",
        "    model.compile(loss=\"categorical_crossentropy\", optimizer=\"adam\")\n",
        "    monitor = EarlyStopping(\n",
        "        monitor=\"val_loss\",\n",
        "        min_delta=1e-3,\n",
        "        patience=25,\n",
        "        verbose=0,\n",
        "        mode=\"auto\",\n",
        "        restore_best_weights=True,\n",
        "    )\n",
        "\n",
        "    # Train on the bootstrap sample\n",
        "    model.fit(\n",
        "        x_train,\n",
        "        y_train,\n",
        "        validation_data=(x_test, y_test),\n",
        "        callbacks=[monitor],\n",
        "        verbose=0,\n",
        "        epochs=1000,\n",
        "    )\n",
        "    epochs = monitor.stopped_epoch\n",
        "    epochs_needed.append(epochs)\n",
        "\n",
        "    # Predict on the out of boot (validation)\n",
        "    pred = model.predict(x_test)\n",
        "\n",
        "    # Measure this bootstrap's log loss\n",
        "    y_compare = np.argmax(y_test, axis=1)  # For log loss calculation\n",
        "    score = metrics.log_loss(y_compare, pred)\n",
        "    mean_benchmark.append(score)\n",
        "    m1 = statistics.mean(mean_benchmark)\n",
        "    m2 = statistics.mean(epochs_needed)\n",
        "    mdev = statistics.pstdev(mean_benchmark)\n",
        "\n",
        "    # Record this iteration\n",
        "    time_took = time.time() - start_time\n",
        "    print(\n",
        "        f\"#{num}: score={score:.6f}, mean score={m1:.6f},\"\n",
        "        + f\"stdev={mdev:.6f}, epochs={epochs}, mean epochs={int(m2)},\"\n",
        "        + f\" time={hms_string(time_took)}\"\n",
        "    )"
      ]
    },
    {
      "attachments": {},
      "cell_type": "markdown",
      "metadata": {
        "id": "IHxvxKl0kn4V"
      },
      "source": [
        "## Benchmarking\n",
        "\n",
        "Now that we've seen how to bootstrap with both classification and regression, we can start to try to optimize the hyperparameters for the **jh-simple-dataset** data. For this example, we will encode for classification of the product column. Evaluation will be in log loss.\n"
      ]
    },
    {
      "cell_type": "code",
      "execution_count": null,
      "metadata": {
        "id": "VdKviOzhkn4V"
      },
      "outputs": [],
      "source": [
        "import pandas as pd\n",
        "from scipy.stats import zscore\n",
        "\n",
        "# Read the data set\n",
        "df = pd.read_csv(\n",
        "    \"https://data.heatonresearch.com/data/t81-558/jh-simple-dataset.csv\",\n",
        "    na_values=[\"NA\", \"?\"],\n",
        ")\n",
        "\n",
        "# Generate dummies for job\n",
        "df = pd.concat([df, pd.get_dummies(df[\"job\"], prefix=\"job\")], axis=1)\n",
        "df.drop(\"job\", axis=1, inplace=True)\n",
        "\n",
        "# Generate dummies for area\n",
        "df = pd.concat([df, pd.get_dummies(df[\"area\"], prefix=\"area\")], axis=1)\n",
        "df.drop(\"area\", axis=1, inplace=True)\n",
        "\n",
        "# Missing values for income\n",
        "med = df[\"income\"].median()\n",
        "df[\"income\"] = df[\"income\"].fillna(med)\n",
        "\n",
        "# Standardize ranges\n",
        "df[\"income\"] = zscore(df[\"income\"])\n",
        "df[\"aspect\"] = zscore(df[\"aspect\"])\n",
        "df[\"save_rate\"] = zscore(df[\"save_rate\"])\n",
        "df[\"age\"] = zscore(df[\"age\"])\n",
        "df[\"subscriptions\"] = zscore(df[\"subscriptions\"])\n",
        "\n",
        "# Convert to numpy - Classification\n",
        "x_columns = df.columns.drop(\"product\").drop(\"id\")\n",
        "x = df[x_columns].values\n",
        "dummies = pd.get_dummies(df[\"product\"])  # Classification\n",
        "products = dummies.columns\n",
        "y = dummies.values"
      ]
    },
    {
      "attachments": {},
      "cell_type": "markdown",
      "metadata": {
        "id": "kKIKR9vFkn4V"
      },
      "source": [
        "I performed some optimization, and the code has the best settings that I could determine. Later in this book, we will see how we can use an automatic process to optimize the hyperparameters.\n"
      ]
    },
    {
      "cell_type": "code",
      "execution_count": null,
      "metadata": {
        "colab": {
          "base_uri": "https://localhost:8080/"
        },
        "id": "Nk4w1p42kn4V",
        "outputId": "9b6c41e5-58e2-482f-c69f-bdfaf4e9172a"
      },
      "outputs": [],
      "source": [
        "import pandas as pd\n",
        "import os\n",
        "import numpy as np\n",
        "import time\n",
        "import tensorflow.keras.initializers\n",
        "import statistics\n",
        "from sklearn import metrics\n",
        "from sklearn.model_selection import StratifiedKFold\n",
        "from tensorflow.keras.models import Sequential\n",
        "from tensorflow.keras.layers import Dense, Activation, Dropout\n",
        "from tensorflow.keras import regularizers\n",
        "from tensorflow.keras.callbacks import EarlyStopping\n",
        "from sklearn.model_selection import StratifiedShuffleSplit\n",
        "from tensorflow.keras.layers import LeakyReLU, PReLU\n",
        "\n",
        "SPLITS = 100\n",
        "\n",
        "# Bootstrap\n",
        "boot = StratifiedShuffleSplit(n_splits=SPLITS, test_size=0.1)\n",
        "\n",
        "# Track progress\n",
        "mean_benchmark = []\n",
        "epochs_needed = []\n",
        "num = 0\n",
        "\n",
        "# Loop through samples\n",
        "for train, test in boot.split(x, df[\"product\"]):\n",
        "    start_time = time.time()\n",
        "    num += 1\n",
        "\n",
        "    # Split train and test\n",
        "    x_train = x[train]\n",
        "    y_train = y[train]\n",
        "    x_test = x[test]\n",
        "    y_test = y[test]\n",
        "\n",
        "    # Construct neural network\n",
        "    model = Sequential()\n",
        "    model.add(\n",
        "        Dense(\n",
        "            100,\n",
        "            input_dim=x.shape[1],\n",
        "            activation=PReLU(),\n",
        "            kernel_regularizer=regularizers.l2(1e-4),\n",
        "        )\n",
        "    )  # Hidden 1\n",
        "    model.add(Dropout(0.5))\n",
        "    model.add(\n",
        "        Dense(100, activation=PReLU(), activity_regularizer=regularizers.l2(1e-4))\n",
        "    )  # Hidden 2\n",
        "    model.add(Dropout(0.5))\n",
        "    model.add(\n",
        "        Dense(100, activation=PReLU(), activity_regularizer=regularizers.l2(1e-4))\n",
        "    )  # Hidden 3\n",
        "    #    model.add(Dropout(0.5)) - Usually better performance\n",
        "    # without dropout on final layer\n",
        "    model.add(Dense(y.shape[1], activation=\"softmax\"))  # Output\n",
        "    model.compile(loss=\"categorical_crossentropy\", optimizer=\"adam\")\n",
        "    monitor = EarlyStopping(\n",
        "        monitor=\"val_loss\",\n",
        "        min_delta=1e-3,\n",
        "        patience=100,\n",
        "        verbose=0,\n",
        "        mode=\"auto\",\n",
        "        restore_best_weights=True,\n",
        "    )\n",
        "\n",
        "    # Train on the bootstrap sample\n",
        "    model.fit(\n",
        "        x_train,\n",
        "        y_train,\n",
        "        validation_data=(x_test, y_test),\n",
        "        callbacks=[monitor],\n",
        "        verbose=0,\n",
        "        epochs=1000,\n",
        "    )\n",
        "    epochs = monitor.stopped_epoch\n",
        "    epochs_needed.append(epochs)\n",
        "\n",
        "    # Predict on the out of boot (validation)\n",
        "    pred = model.predict(x_test)\n",
        "\n",
        "    # Measure this bootstrap's log loss\n",
        "    y_compare = np.argmax(y_test, axis=1)  # For log loss calculation\n",
        "    score = metrics.log_loss(y_compare, pred)\n",
        "    mean_benchmark.append(score)\n",
        "    m1 = statistics.mean(mean_benchmark)\n",
        "    m2 = statistics.mean(epochs_needed)\n",
        "    mdev = statistics.pstdev(mean_benchmark)\n",
        "\n",
        "    # Record this iteration\n",
        "    time_took = time.time() - start_time\n",
        "    print(\n",
        "        f\"#{num}: score={score:.6f}, mean score={m1:.6f},\"\n",
        "        f\"stdev={mdev:.6f}, epochs={epochs},\"\n",
        "        f\"mean epochs={int(m2)}, time={hms_string(time_took)}\"\n",
        "    )"
      ]
    }
  ],
  "metadata": {
    "anaconda-cloud": {},
    "colab": {
      "collapsed_sections": [],
      "name": "Copy of t81_558_class_05_5_bootstrap.ipynb",
      "provenance": []
    },
    "kernelspec": {
      "display_name": "tensorflow",
      "language": "python",
      "name": "python3"
    },
    "language_info": {
      "codemirror_mode": {
        "name": "ipython",
        "version": 3
      },
      "file_extension": ".py",
      "mimetype": "text/x-python",
      "name": "python",
      "nbconvert_exporter": "python",
      "pygments_lexer": "ipython3",
      "version": "3.10.10"
    }
  },
  "nbformat": 4,
  "nbformat_minor": 0
}
